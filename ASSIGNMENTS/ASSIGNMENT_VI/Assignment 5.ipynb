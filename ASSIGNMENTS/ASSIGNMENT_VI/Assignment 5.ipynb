{
 "cells": [
  {
   "cell_type": "code",
   "execution_count": 1,
   "metadata": {},
   "outputs": [],
   "source": [
    "import timeit\n",
    "start_time = timeit.default_timer()"
   ]
  },
  {
   "cell_type": "code",
   "execution_count": 48,
   "metadata": {},
   "outputs": [
    {
     "data": {
      "text/plain": [
       "9.330625585788338e-07"
      ]
     },
     "execution_count": 48,
     "metadata": {},
     "output_type": "execute_result"
    }
   ],
   "source": [
    "start_time"
   ]
  },
  {
   "cell_type": "markdown",
   "metadata": {},
   "source": [
    "# Assignment #5 - Deep Learning\n",
    "\n",
    "### <font color=\"red\"> DUE: Apr 23 (Tuesday) 11:00 pm </font>  "
   ]
  },
  {
   "cell_type": "markdown",
   "metadata": {},
   "source": [
    "<font color=\"blue\">Gaurav Mahadik</font>"
   ]
  },
  {
   "cell_type": "markdown",
   "metadata": {},
   "source": [
    "# I. Overview\n",
    "\n",
    "The obective of this assignment is to understand what is deep learning and how can we impement it using Tensorflow or Keras as instructed to us. I have used Keras in this assignment to implement deep learning. The data has been preprocessed and visualized and nomralized to be used ahead. I have used the Sequential model in Keras to create different neural network structures which have been implemented in this assignment."
   ]
  },
  {
   "cell_type": "markdown",
   "metadata": {},
   "source": [
    "# II. Data"
   ]
  },
  {
   "cell_type": "markdown",
   "metadata": {},
   "source": [
    "# Introduction of Data"
   ]
  },
  {
   "cell_type": "markdown",
   "metadata": {},
   "source": [
    "The data set which has been used is a Bank Marketing Dataset which is a record of all the marketing dont by the bank to get customers to deposit money in their bank. This data set is having 11162 rows and 17 columns.This dataset has a binary variable deposit (Yes = yes, No = no) as target variable.The dataset gives you information about a marketing campaign of a financial institution in which you will have to analyze in order to find ways to look for future strategies in order to improve future marketing campaigns for the bank."
   ]
  },
  {
   "cell_type": "markdown",
   "metadata": {},
   "source": [
    "# Source of the Data"
   ]
  },
  {
   "cell_type": "markdown",
   "metadata": {},
   "source": [
    "https://www.kaggle.com/janiobachmann/bank-marketing-dataset"
   ]
  },
  {
   "cell_type": "markdown",
   "metadata": {},
   "source": [
    "# Reading the Data"
   ]
  },
  {
   "cell_type": "code",
   "execution_count": 2,
   "metadata": {},
   "outputs": [],
   "source": [
    "import numpy as np\n",
    "import pandas as pd\n",
    "import matplotlib.pyplot as plt\n",
    "import seaborn as sns"
   ]
  },
  {
   "cell_type": "code",
   "execution_count": 3,
   "metadata": {},
   "outputs": [],
   "source": [
    "df = pd.read_csv(\"bank.csv\")"
   ]
  },
  {
   "cell_type": "code",
   "execution_count": 4,
   "metadata": {},
   "outputs": [
    {
     "data": {
      "text/html": [
       "<div>\n",
       "<style scoped>\n",
       "    .dataframe tbody tr th:only-of-type {\n",
       "        vertical-align: middle;\n",
       "    }\n",
       "\n",
       "    .dataframe tbody tr th {\n",
       "        vertical-align: top;\n",
       "    }\n",
       "\n",
       "    .dataframe thead th {\n",
       "        text-align: right;\n",
       "    }\n",
       "</style>\n",
       "<table border=\"1\" class=\"dataframe\">\n",
       "  <thead>\n",
       "    <tr style=\"text-align: right;\">\n",
       "      <th></th>\n",
       "      <th>age</th>\n",
       "      <th>job</th>\n",
       "      <th>marital</th>\n",
       "      <th>education</th>\n",
       "      <th>default</th>\n",
       "      <th>balance</th>\n",
       "      <th>housing</th>\n",
       "      <th>loan</th>\n",
       "      <th>contact</th>\n",
       "      <th>day</th>\n",
       "      <th>month</th>\n",
       "      <th>duration</th>\n",
       "      <th>campaign</th>\n",
       "      <th>pdays</th>\n",
       "      <th>previous</th>\n",
       "      <th>poutcome</th>\n",
       "      <th>deposit</th>\n",
       "    </tr>\n",
       "  </thead>\n",
       "  <tbody>\n",
       "    <tr>\n",
       "      <th>0</th>\n",
       "      <td>59</td>\n",
       "      <td>admin.</td>\n",
       "      <td>married</td>\n",
       "      <td>secondary</td>\n",
       "      <td>no</td>\n",
       "      <td>2343</td>\n",
       "      <td>yes</td>\n",
       "      <td>no</td>\n",
       "      <td>unknown</td>\n",
       "      <td>5</td>\n",
       "      <td>may</td>\n",
       "      <td>1042</td>\n",
       "      <td>1</td>\n",
       "      <td>-1</td>\n",
       "      <td>0</td>\n",
       "      <td>unknown</td>\n",
       "      <td>yes</td>\n",
       "    </tr>\n",
       "    <tr>\n",
       "      <th>1</th>\n",
       "      <td>56</td>\n",
       "      <td>admin.</td>\n",
       "      <td>married</td>\n",
       "      <td>secondary</td>\n",
       "      <td>no</td>\n",
       "      <td>45</td>\n",
       "      <td>no</td>\n",
       "      <td>no</td>\n",
       "      <td>unknown</td>\n",
       "      <td>5</td>\n",
       "      <td>may</td>\n",
       "      <td>1467</td>\n",
       "      <td>1</td>\n",
       "      <td>-1</td>\n",
       "      <td>0</td>\n",
       "      <td>unknown</td>\n",
       "      <td>yes</td>\n",
       "    </tr>\n",
       "    <tr>\n",
       "      <th>2</th>\n",
       "      <td>41</td>\n",
       "      <td>technician</td>\n",
       "      <td>married</td>\n",
       "      <td>secondary</td>\n",
       "      <td>no</td>\n",
       "      <td>1270</td>\n",
       "      <td>yes</td>\n",
       "      <td>no</td>\n",
       "      <td>unknown</td>\n",
       "      <td>5</td>\n",
       "      <td>may</td>\n",
       "      <td>1389</td>\n",
       "      <td>1</td>\n",
       "      <td>-1</td>\n",
       "      <td>0</td>\n",
       "      <td>unknown</td>\n",
       "      <td>yes</td>\n",
       "    </tr>\n",
       "    <tr>\n",
       "      <th>3</th>\n",
       "      <td>55</td>\n",
       "      <td>services</td>\n",
       "      <td>married</td>\n",
       "      <td>secondary</td>\n",
       "      <td>no</td>\n",
       "      <td>2476</td>\n",
       "      <td>yes</td>\n",
       "      <td>no</td>\n",
       "      <td>unknown</td>\n",
       "      <td>5</td>\n",
       "      <td>may</td>\n",
       "      <td>579</td>\n",
       "      <td>1</td>\n",
       "      <td>-1</td>\n",
       "      <td>0</td>\n",
       "      <td>unknown</td>\n",
       "      <td>yes</td>\n",
       "    </tr>\n",
       "    <tr>\n",
       "      <th>4</th>\n",
       "      <td>54</td>\n",
       "      <td>admin.</td>\n",
       "      <td>married</td>\n",
       "      <td>tertiary</td>\n",
       "      <td>no</td>\n",
       "      <td>184</td>\n",
       "      <td>no</td>\n",
       "      <td>no</td>\n",
       "      <td>unknown</td>\n",
       "      <td>5</td>\n",
       "      <td>may</td>\n",
       "      <td>673</td>\n",
       "      <td>2</td>\n",
       "      <td>-1</td>\n",
       "      <td>0</td>\n",
       "      <td>unknown</td>\n",
       "      <td>yes</td>\n",
       "    </tr>\n",
       "  </tbody>\n",
       "</table>\n",
       "</div>"
      ],
      "text/plain": [
       "   age         job  marital  education default  balance housing loan  contact  \\\n",
       "0   59      admin.  married  secondary      no     2343     yes   no  unknown   \n",
       "1   56      admin.  married  secondary      no       45      no   no  unknown   \n",
       "2   41  technician  married  secondary      no     1270     yes   no  unknown   \n",
       "3   55    services  married  secondary      no     2476     yes   no  unknown   \n",
       "4   54      admin.  married   tertiary      no      184      no   no  unknown   \n",
       "\n",
       "   day month  duration  campaign  pdays  previous poutcome deposit  \n",
       "0    5   may      1042         1     -1         0  unknown     yes  \n",
       "1    5   may      1467         1     -1         0  unknown     yes  \n",
       "2    5   may      1389         1     -1         0  unknown     yes  \n",
       "3    5   may       579         1     -1         0  unknown     yes  \n",
       "4    5   may       673         2     -1         0  unknown     yes  "
      ]
     },
     "execution_count": 4,
     "metadata": {},
     "output_type": "execute_result"
    }
   ],
   "source": [
    "df.head()"
   ]
  },
  {
   "cell_type": "markdown",
   "metadata": {},
   "source": [
    "# Preprocessing the Data"
   ]
  },
  {
   "cell_type": "code",
   "execution_count": 5,
   "metadata": {},
   "outputs": [],
   "source": [
    "df1 = df"
   ]
  },
  {
   "cell_type": "code",
   "execution_count": 6,
   "metadata": {},
   "outputs": [
    {
     "data": {
      "text/html": [
       "<div>\n",
       "<style scoped>\n",
       "    .dataframe tbody tr th:only-of-type {\n",
       "        vertical-align: middle;\n",
       "    }\n",
       "\n",
       "    .dataframe tbody tr th {\n",
       "        vertical-align: top;\n",
       "    }\n",
       "\n",
       "    .dataframe thead th {\n",
       "        text-align: right;\n",
       "    }\n",
       "</style>\n",
       "<table border=\"1\" class=\"dataframe\">\n",
       "  <thead>\n",
       "    <tr style=\"text-align: right;\">\n",
       "      <th></th>\n",
       "      <th>age</th>\n",
       "      <th>job</th>\n",
       "      <th>marital</th>\n",
       "      <th>education</th>\n",
       "      <th>default</th>\n",
       "      <th>balance</th>\n",
       "      <th>housing</th>\n",
       "      <th>loan</th>\n",
       "      <th>contact</th>\n",
       "      <th>day</th>\n",
       "      <th>month</th>\n",
       "      <th>duration</th>\n",
       "      <th>campaign</th>\n",
       "      <th>pdays</th>\n",
       "      <th>previous</th>\n",
       "      <th>poutcome</th>\n",
       "      <th>deposit</th>\n",
       "    </tr>\n",
       "  </thead>\n",
       "  <tbody>\n",
       "    <tr>\n",
       "      <th>0</th>\n",
       "      <td>59</td>\n",
       "      <td>admin.</td>\n",
       "      <td>married</td>\n",
       "      <td>secondary</td>\n",
       "      <td>no</td>\n",
       "      <td>2343</td>\n",
       "      <td>yes</td>\n",
       "      <td>no</td>\n",
       "      <td>unknown</td>\n",
       "      <td>5</td>\n",
       "      <td>may</td>\n",
       "      <td>1042</td>\n",
       "      <td>1</td>\n",
       "      <td>-1</td>\n",
       "      <td>0</td>\n",
       "      <td>unknown</td>\n",
       "      <td>yes</td>\n",
       "    </tr>\n",
       "    <tr>\n",
       "      <th>1</th>\n",
       "      <td>56</td>\n",
       "      <td>admin.</td>\n",
       "      <td>married</td>\n",
       "      <td>secondary</td>\n",
       "      <td>no</td>\n",
       "      <td>45</td>\n",
       "      <td>no</td>\n",
       "      <td>no</td>\n",
       "      <td>unknown</td>\n",
       "      <td>5</td>\n",
       "      <td>may</td>\n",
       "      <td>1467</td>\n",
       "      <td>1</td>\n",
       "      <td>-1</td>\n",
       "      <td>0</td>\n",
       "      <td>unknown</td>\n",
       "      <td>yes</td>\n",
       "    </tr>\n",
       "    <tr>\n",
       "      <th>2</th>\n",
       "      <td>41</td>\n",
       "      <td>technician</td>\n",
       "      <td>married</td>\n",
       "      <td>secondary</td>\n",
       "      <td>no</td>\n",
       "      <td>1270</td>\n",
       "      <td>yes</td>\n",
       "      <td>no</td>\n",
       "      <td>unknown</td>\n",
       "      <td>5</td>\n",
       "      <td>may</td>\n",
       "      <td>1389</td>\n",
       "      <td>1</td>\n",
       "      <td>-1</td>\n",
       "      <td>0</td>\n",
       "      <td>unknown</td>\n",
       "      <td>yes</td>\n",
       "    </tr>\n",
       "    <tr>\n",
       "      <th>3</th>\n",
       "      <td>55</td>\n",
       "      <td>services</td>\n",
       "      <td>married</td>\n",
       "      <td>secondary</td>\n",
       "      <td>no</td>\n",
       "      <td>2476</td>\n",
       "      <td>yes</td>\n",
       "      <td>no</td>\n",
       "      <td>unknown</td>\n",
       "      <td>5</td>\n",
       "      <td>may</td>\n",
       "      <td>579</td>\n",
       "      <td>1</td>\n",
       "      <td>-1</td>\n",
       "      <td>0</td>\n",
       "      <td>unknown</td>\n",
       "      <td>yes</td>\n",
       "    </tr>\n",
       "    <tr>\n",
       "      <th>4</th>\n",
       "      <td>54</td>\n",
       "      <td>admin.</td>\n",
       "      <td>married</td>\n",
       "      <td>tertiary</td>\n",
       "      <td>no</td>\n",
       "      <td>184</td>\n",
       "      <td>no</td>\n",
       "      <td>no</td>\n",
       "      <td>unknown</td>\n",
       "      <td>5</td>\n",
       "      <td>may</td>\n",
       "      <td>673</td>\n",
       "      <td>2</td>\n",
       "      <td>-1</td>\n",
       "      <td>0</td>\n",
       "      <td>unknown</td>\n",
       "      <td>yes</td>\n",
       "    </tr>\n",
       "  </tbody>\n",
       "</table>\n",
       "</div>"
      ],
      "text/plain": [
       "   age         job  marital  education default  balance housing loan  contact  \\\n",
       "0   59      admin.  married  secondary      no     2343     yes   no  unknown   \n",
       "1   56      admin.  married  secondary      no       45      no   no  unknown   \n",
       "2   41  technician  married  secondary      no     1270     yes   no  unknown   \n",
       "3   55    services  married  secondary      no     2476     yes   no  unknown   \n",
       "4   54      admin.  married   tertiary      no      184      no   no  unknown   \n",
       "\n",
       "   day month  duration  campaign  pdays  previous poutcome deposit  \n",
       "0    5   may      1042         1     -1         0  unknown     yes  \n",
       "1    5   may      1467         1     -1         0  unknown     yes  \n",
       "2    5   may      1389         1     -1         0  unknown     yes  \n",
       "3    5   may       579         1     -1         0  unknown     yes  \n",
       "4    5   may       673         2     -1         0  unknown     yes  "
      ]
     },
     "execution_count": 6,
     "metadata": {},
     "output_type": "execute_result"
    }
   ],
   "source": [
    "df1.head()"
   ]
  },
  {
   "cell_type": "code",
   "execution_count": 7,
   "metadata": {},
   "outputs": [],
   "source": [
    "df1 = df1.drop(columns=['default', 'loan','contact','poutcome','job','previous','pdays'])"
   ]
  },
  {
   "cell_type": "code",
   "execution_count": 8,
   "metadata": {},
   "outputs": [
    {
     "data": {
      "text/html": [
       "<div>\n",
       "<style scoped>\n",
       "    .dataframe tbody tr th:only-of-type {\n",
       "        vertical-align: middle;\n",
       "    }\n",
       "\n",
       "    .dataframe tbody tr th {\n",
       "        vertical-align: top;\n",
       "    }\n",
       "\n",
       "    .dataframe thead th {\n",
       "        text-align: right;\n",
       "    }\n",
       "</style>\n",
       "<table border=\"1\" class=\"dataframe\">\n",
       "  <thead>\n",
       "    <tr style=\"text-align: right;\">\n",
       "      <th></th>\n",
       "      <th>age</th>\n",
       "      <th>marital</th>\n",
       "      <th>education</th>\n",
       "      <th>balance</th>\n",
       "      <th>housing</th>\n",
       "      <th>day</th>\n",
       "      <th>month</th>\n",
       "      <th>duration</th>\n",
       "      <th>campaign</th>\n",
       "      <th>deposit</th>\n",
       "    </tr>\n",
       "  </thead>\n",
       "  <tbody>\n",
       "    <tr>\n",
       "      <th>0</th>\n",
       "      <td>59</td>\n",
       "      <td>married</td>\n",
       "      <td>secondary</td>\n",
       "      <td>2343</td>\n",
       "      <td>yes</td>\n",
       "      <td>5</td>\n",
       "      <td>may</td>\n",
       "      <td>1042</td>\n",
       "      <td>1</td>\n",
       "      <td>yes</td>\n",
       "    </tr>\n",
       "    <tr>\n",
       "      <th>1</th>\n",
       "      <td>56</td>\n",
       "      <td>married</td>\n",
       "      <td>secondary</td>\n",
       "      <td>45</td>\n",
       "      <td>no</td>\n",
       "      <td>5</td>\n",
       "      <td>may</td>\n",
       "      <td>1467</td>\n",
       "      <td>1</td>\n",
       "      <td>yes</td>\n",
       "    </tr>\n",
       "    <tr>\n",
       "      <th>2</th>\n",
       "      <td>41</td>\n",
       "      <td>married</td>\n",
       "      <td>secondary</td>\n",
       "      <td>1270</td>\n",
       "      <td>yes</td>\n",
       "      <td>5</td>\n",
       "      <td>may</td>\n",
       "      <td>1389</td>\n",
       "      <td>1</td>\n",
       "      <td>yes</td>\n",
       "    </tr>\n",
       "    <tr>\n",
       "      <th>3</th>\n",
       "      <td>55</td>\n",
       "      <td>married</td>\n",
       "      <td>secondary</td>\n",
       "      <td>2476</td>\n",
       "      <td>yes</td>\n",
       "      <td>5</td>\n",
       "      <td>may</td>\n",
       "      <td>579</td>\n",
       "      <td>1</td>\n",
       "      <td>yes</td>\n",
       "    </tr>\n",
       "    <tr>\n",
       "      <th>4</th>\n",
       "      <td>54</td>\n",
       "      <td>married</td>\n",
       "      <td>tertiary</td>\n",
       "      <td>184</td>\n",
       "      <td>no</td>\n",
       "      <td>5</td>\n",
       "      <td>may</td>\n",
       "      <td>673</td>\n",
       "      <td>2</td>\n",
       "      <td>yes</td>\n",
       "    </tr>\n",
       "  </tbody>\n",
       "</table>\n",
       "</div>"
      ],
      "text/plain": [
       "   age  marital  education  balance housing  day month  duration  campaign  \\\n",
       "0   59  married  secondary     2343     yes    5   may      1042         1   \n",
       "1   56  married  secondary       45      no    5   may      1467         1   \n",
       "2   41  married  secondary     1270     yes    5   may      1389         1   \n",
       "3   55  married  secondary     2476     yes    5   may       579         1   \n",
       "4   54  married   tertiary      184      no    5   may       673         2   \n",
       "\n",
       "  deposit  \n",
       "0     yes  \n",
       "1     yes  \n",
       "2     yes  \n",
       "3     yes  \n",
       "4     yes  "
      ]
     },
     "execution_count": 8,
     "metadata": {},
     "output_type": "execute_result"
    }
   ],
   "source": [
    " df1.head()"
   ]
  },
  {
   "cell_type": "code",
   "execution_count": 9,
   "metadata": {},
   "outputs": [
    {
     "data": {
      "text/html": [
       "<div>\n",
       "<style scoped>\n",
       "    .dataframe tbody tr th:only-of-type {\n",
       "        vertical-align: middle;\n",
       "    }\n",
       "\n",
       "    .dataframe tbody tr th {\n",
       "        vertical-align: top;\n",
       "    }\n",
       "\n",
       "    .dataframe thead th {\n",
       "        text-align: right;\n",
       "    }\n",
       "</style>\n",
       "<table border=\"1\" class=\"dataframe\">\n",
       "  <thead>\n",
       "    <tr style=\"text-align: right;\">\n",
       "      <th></th>\n",
       "      <th>age</th>\n",
       "      <th>marital</th>\n",
       "      <th>education</th>\n",
       "      <th>balance</th>\n",
       "      <th>housing</th>\n",
       "      <th>day</th>\n",
       "      <th>month</th>\n",
       "      <th>duration</th>\n",
       "      <th>campaign</th>\n",
       "      <th>deposit</th>\n",
       "    </tr>\n",
       "  </thead>\n",
       "  <tbody>\n",
       "    <tr>\n",
       "      <th>0</th>\n",
       "      <td>False</td>\n",
       "      <td>False</td>\n",
       "      <td>False</td>\n",
       "      <td>False</td>\n",
       "      <td>False</td>\n",
       "      <td>False</td>\n",
       "      <td>False</td>\n",
       "      <td>False</td>\n",
       "      <td>False</td>\n",
       "      <td>False</td>\n",
       "    </tr>\n",
       "    <tr>\n",
       "      <th>1</th>\n",
       "      <td>False</td>\n",
       "      <td>False</td>\n",
       "      <td>False</td>\n",
       "      <td>False</td>\n",
       "      <td>False</td>\n",
       "      <td>False</td>\n",
       "      <td>False</td>\n",
       "      <td>False</td>\n",
       "      <td>False</td>\n",
       "      <td>False</td>\n",
       "    </tr>\n",
       "    <tr>\n",
       "      <th>2</th>\n",
       "      <td>False</td>\n",
       "      <td>False</td>\n",
       "      <td>False</td>\n",
       "      <td>False</td>\n",
       "      <td>False</td>\n",
       "      <td>False</td>\n",
       "      <td>False</td>\n",
       "      <td>False</td>\n",
       "      <td>False</td>\n",
       "      <td>False</td>\n",
       "    </tr>\n",
       "    <tr>\n",
       "      <th>3</th>\n",
       "      <td>False</td>\n",
       "      <td>False</td>\n",
       "      <td>False</td>\n",
       "      <td>False</td>\n",
       "      <td>False</td>\n",
       "      <td>False</td>\n",
       "      <td>False</td>\n",
       "      <td>False</td>\n",
       "      <td>False</td>\n",
       "      <td>False</td>\n",
       "    </tr>\n",
       "    <tr>\n",
       "      <th>4</th>\n",
       "      <td>False</td>\n",
       "      <td>False</td>\n",
       "      <td>False</td>\n",
       "      <td>False</td>\n",
       "      <td>False</td>\n",
       "      <td>False</td>\n",
       "      <td>False</td>\n",
       "      <td>False</td>\n",
       "      <td>False</td>\n",
       "      <td>False</td>\n",
       "    </tr>\n",
       "  </tbody>\n",
       "</table>\n",
       "</div>"
      ],
      "text/plain": [
       "     age  marital  education  balance  housing    day  month  duration  \\\n",
       "0  False    False      False    False    False  False  False     False   \n",
       "1  False    False      False    False    False  False  False     False   \n",
       "2  False    False      False    False    False  False  False     False   \n",
       "3  False    False      False    False    False  False  False     False   \n",
       "4  False    False      False    False    False  False  False     False   \n",
       "\n",
       "   campaign  deposit  \n",
       "0     False    False  \n",
       "1     False    False  \n",
       "2     False    False  \n",
       "3     False    False  \n",
       "4     False    False  "
      ]
     },
     "execution_count": 9,
     "metadata": {},
     "output_type": "execute_result"
    }
   ],
   "source": [
    "df1.isnull().head()"
   ]
  },
  {
   "cell_type": "code",
   "execution_count": 10,
   "metadata": {},
   "outputs": [
    {
     "data": {
      "text/plain": [
       "False"
      ]
     },
     "execution_count": 10,
     "metadata": {},
     "output_type": "execute_result"
    }
   ],
   "source": [
    "df1.isnull().values.any()"
   ]
  },
  {
   "cell_type": "code",
   "execution_count": 11,
   "metadata": {},
   "outputs": [
    {
     "data": {
      "text/plain": [
       "age          0\n",
       "marital      0\n",
       "education    0\n",
       "balance      0\n",
       "housing      0\n",
       "day          0\n",
       "month        0\n",
       "duration     0\n",
       "campaign     0\n",
       "deposit      0\n",
       "dtype: int64"
      ]
     },
     "execution_count": 11,
     "metadata": {},
     "output_type": "execute_result"
    }
   ],
   "source": [
    "df1.isnull().sum()"
   ]
  },
  {
   "cell_type": "code",
   "execution_count": 12,
   "metadata": {},
   "outputs": [],
   "source": [
    "encoding_dict = {\"marital\" : {\"single\":1 , \"married\":2 , \"divorced\":3},\n",
    "                 \"housing\" : {\"no\": -1 , \"yes\": 1},\n",
    "                 \"month\" : {\"jan\":1,\"feb\":2,\"mar\":3,\"apr\":4,\"may\":5,\"jun\":6,\"jul\":7,\"aug\":8,\"sep\":9,\"oct\":10,\"nov\":11,\"dec\":12},\n",
    "                 \"deposit\": {\"no\":0,\"yes\":1},\n",
    "                 \"education\" :{\"unknown\":0,\"primary\":1,\"secondary\":2,\"tertiary\":3}\n",
    "                }"
   ]
  },
  {
   "cell_type": "code",
   "execution_count": 13,
   "metadata": {},
   "outputs": [],
   "source": [
    "df1.replace(encoding_dict, inplace = True)"
   ]
  },
  {
   "cell_type": "code",
   "execution_count": 14,
   "metadata": {},
   "outputs": [
    {
     "data": {
      "text/html": [
       "<div>\n",
       "<style scoped>\n",
       "    .dataframe tbody tr th:only-of-type {\n",
       "        vertical-align: middle;\n",
       "    }\n",
       "\n",
       "    .dataframe tbody tr th {\n",
       "        vertical-align: top;\n",
       "    }\n",
       "\n",
       "    .dataframe thead th {\n",
       "        text-align: right;\n",
       "    }\n",
       "</style>\n",
       "<table border=\"1\" class=\"dataframe\">\n",
       "  <thead>\n",
       "    <tr style=\"text-align: right;\">\n",
       "      <th></th>\n",
       "      <th>age</th>\n",
       "      <th>marital</th>\n",
       "      <th>education</th>\n",
       "      <th>balance</th>\n",
       "      <th>housing</th>\n",
       "      <th>day</th>\n",
       "      <th>month</th>\n",
       "      <th>duration</th>\n",
       "      <th>campaign</th>\n",
       "      <th>deposit</th>\n",
       "    </tr>\n",
       "  </thead>\n",
       "  <tbody>\n",
       "    <tr>\n",
       "      <th>0</th>\n",
       "      <td>59</td>\n",
       "      <td>2</td>\n",
       "      <td>2</td>\n",
       "      <td>2343</td>\n",
       "      <td>1</td>\n",
       "      <td>5</td>\n",
       "      <td>5</td>\n",
       "      <td>1042</td>\n",
       "      <td>1</td>\n",
       "      <td>1</td>\n",
       "    </tr>\n",
       "    <tr>\n",
       "      <th>1</th>\n",
       "      <td>56</td>\n",
       "      <td>2</td>\n",
       "      <td>2</td>\n",
       "      <td>45</td>\n",
       "      <td>-1</td>\n",
       "      <td>5</td>\n",
       "      <td>5</td>\n",
       "      <td>1467</td>\n",
       "      <td>1</td>\n",
       "      <td>1</td>\n",
       "    </tr>\n",
       "    <tr>\n",
       "      <th>2</th>\n",
       "      <td>41</td>\n",
       "      <td>2</td>\n",
       "      <td>2</td>\n",
       "      <td>1270</td>\n",
       "      <td>1</td>\n",
       "      <td>5</td>\n",
       "      <td>5</td>\n",
       "      <td>1389</td>\n",
       "      <td>1</td>\n",
       "      <td>1</td>\n",
       "    </tr>\n",
       "    <tr>\n",
       "      <th>3</th>\n",
       "      <td>55</td>\n",
       "      <td>2</td>\n",
       "      <td>2</td>\n",
       "      <td>2476</td>\n",
       "      <td>1</td>\n",
       "      <td>5</td>\n",
       "      <td>5</td>\n",
       "      <td>579</td>\n",
       "      <td>1</td>\n",
       "      <td>1</td>\n",
       "    </tr>\n",
       "    <tr>\n",
       "      <th>4</th>\n",
       "      <td>54</td>\n",
       "      <td>2</td>\n",
       "      <td>3</td>\n",
       "      <td>184</td>\n",
       "      <td>-1</td>\n",
       "      <td>5</td>\n",
       "      <td>5</td>\n",
       "      <td>673</td>\n",
       "      <td>2</td>\n",
       "      <td>1</td>\n",
       "    </tr>\n",
       "  </tbody>\n",
       "</table>\n",
       "</div>"
      ],
      "text/plain": [
       "   age  marital  education  balance  housing  day  month  duration  campaign  \\\n",
       "0   59        2          2     2343        1    5      5      1042         1   \n",
       "1   56        2          2       45       -1    5      5      1467         1   \n",
       "2   41        2          2     1270        1    5      5      1389         1   \n",
       "3   55        2          2     2476        1    5      5       579         1   \n",
       "4   54        2          3      184       -1    5      5       673         2   \n",
       "\n",
       "   deposit  \n",
       "0        1  \n",
       "1        1  \n",
       "2        1  \n",
       "3        1  \n",
       "4        1  "
      ]
     },
     "execution_count": 14,
     "metadata": {},
     "output_type": "execute_result"
    }
   ],
   "source": [
    "df1.head()"
   ]
  },
  {
   "cell_type": "markdown",
   "metadata": {},
   "source": [
    "# Visualizing the Data"
   ]
  },
  {
   "cell_type": "code",
   "execution_count": 15,
   "metadata": {},
   "outputs": [],
   "source": [
    "import seaborn as sns\n",
    "import matplotlib.pyplot as plt"
   ]
  },
  {
   "cell_type": "code",
   "execution_count": 16,
   "metadata": {},
   "outputs": [
    {
     "name": "stdout",
     "output_type": "stream",
     "text": [
      "[0, 1, 2, 3]\n",
      "[497, 1500, 5476, 3689]\n"
     ]
    }
   ],
   "source": [
    "groupName = []                                    #making different groups of genders to be plotted ahead\n",
    "count = []\n",
    "for group_name, subset in df1.groupby('education'):\n",
    "    groupName.append(group_name)\n",
    "    count.append(len(subset))\n",
    "print(groupName)\n",
    "print(count)"
   ]
  },
  {
   "cell_type": "code",
   "execution_count": 17,
   "metadata": {},
   "outputs": [
    {
     "data": {
      "image/png": "[encoded data removed]",
      "text/plain": [
       "<Figure size 504x504 with 1 Axes>"
      ]
     },
     "metadata": {},
     "output_type": "display_data"
    }
   ],
   "source": [
    "plt.figure(figsize = (7, 7))\n",
    "plt.pie(count, labels = groupName)\n",
    "plt.show()"
   ]
  },
  {
   "cell_type": "code",
   "execution_count": 18,
   "metadata": {},
   "outputs": [
    {
     "data": {
      "text/plain": [
       "Text(0.5, 1.0, 'Campaign Count Plot')"
      ]
     },
     "execution_count": 18,
     "metadata": {},
     "output_type": "execute_result"
    },
    {
     "data": {
      "image/png": "[encoded data removed]",
      "text/plain": [
       "<Figure size 432x288 with 1 Axes>"
      ]
     },
     "metadata": {},
     "output_type": "display_data"
    }
   ],
   "source": [
    "sns.countplot(df1.campaign)\n",
    "plt.title(\"Campaign Count Plot\", color = 'green', fontsize = 30)"
   ]
  },
  {
   "cell_type": "code",
   "execution_count": 19,
   "metadata": {},
   "outputs": [
    {
     "data": {
      "text/plain": [
       "Text(0.5, 1.0, 'Marriage Count Plot')"
      ]
     },
     "execution_count": 19,
     "metadata": {},
     "output_type": "execute_result"
    },
    {
     "data": {
      "image/png": "[encoded data removed]",
      "text/plain": [
       "<Figure size 432x288 with 1 Axes>"
      ]
     },
     "metadata": {},
     "output_type": "display_data"
    }
   ],
   "source": [
    "sns.countplot(df1.marital)\n",
    "plt.title(\"Marriage Count Plot\", color = 'green', fontsize = 30)"
   ]
  },
  {
   "cell_type": "code",
   "execution_count": 20,
   "metadata": {},
   "outputs": [
    {
     "data": {
      "text/plain": [
       "<seaborn.axisgrid.JointGrid at 0x29137dcf0b8>"
      ]
     },
     "execution_count": 20,
     "metadata": {},
     "output_type": "execute_result"
    },
    {
     "data": {
      "image/png": "[encoded data removed]",
      "text/plain": [
       "<Figure size 432x432 with 3 Axes>"
      ]
     },
     "metadata": {},
     "output_type": "display_data"
    }
   ],
   "source": [
    "sns.jointplot(df1['age'],df1['month'])"
   ]
  },
  {
   "cell_type": "code",
   "execution_count": 21,
   "metadata": {},
   "outputs": [
    {
     "data": {
      "text/plain": [
       "Text(0.5, 1.0, 'Marriage Age Count Plot')"
      ]
     },
     "execution_count": 21,
     "metadata": {},
     "output_type": "execute_result"
    },
    {
     "data": {
      "image/png": "[encoded data removed]",
      "text/plain": [
       "<Figure size 720x720 with 1 Axes>"
      ]
     },
     "metadata": {},
     "output_type": "display_data"
    }
   ],
   "source": [
    "fig = plt.subplots(figsize=(10,10))\n",
    "sns.countplot(df1['age'],hue=df1['marital'])\n",
    "plt.title(\"Marriage Age Count Plot\", color = 'green', fontsize = 30)"
   ]
  },
  {
   "cell_type": "code",
   "execution_count": 22,
   "metadata": {},
   "outputs": [
    {
     "data": {
      "text/plain": [
       "Text(0.5, 1.0, 'Age Deposit Count Plot')"
      ]
     },
     "execution_count": 22,
     "metadata": {},
     "output_type": "execute_result"
    },
    {
     "data": {
      "image/png": "[encoded data removed]",
      "text/plain": [
       "<Figure size 720x720 with 1 Axes>"
      ]
     },
     "metadata": {},
     "output_type": "display_data"
    }
   ],
   "source": [
    "fig = plt.subplots(figsize=(10,10))\n",
    "sns.countplot(df1['age'],hue=df1['deposit'])\n",
    "plt.title(\"Age Deposit Count Plot\", color = 'green', fontsize = 30)"
   ]
  },
  {
   "cell_type": "code",
   "execution_count": 23,
   "metadata": {},
   "outputs": [
    {
     "data": {
      "text/plain": [
       "Text(0.5, 1.0, 'Marriage Deposit Count Plot')"
      ]
     },
     "execution_count": 23,
     "metadata": {},
     "output_type": "execute_result"
    },
    {
     "data": {
      "image/png": "[encoded data removed]",
      "text/plain": [
       "<Figure size 720x720 with 1 Axes>"
      ]
     },
     "metadata": {},
     "output_type": "display_data"
    }
   ],
   "source": [
    "fig = plt.subplots(figsize=(10,10))\n",
    "sns.countplot(df1['marital'],hue=df1['deposit'])\n",
    "plt.title(\"Marriage Deposit Count Plot\", color = 'green', fontsize = 30)"
   ]
  },
  {
   "cell_type": "code",
   "execution_count": 24,
   "metadata": {},
   "outputs": [
    {
     "data": {
      "image/png": "[encoded data removed]",
      "text/plain": [
       "<Figure size 720x720 with 2 Axes>"
      ]
     },
     "metadata": {},
     "output_type": "display_data"
    }
   ],
   "source": [
    "f = plt.subplots(figsize=(10, 10))\n",
    "sns.heatmap(df1.corr(), annot=True, linewidths=.1,fmt= '.1f')\n",
    "plt.show()"
   ]
  },
  {
   "cell_type": "markdown",
   "metadata": {},
   "source": [
    "# Preliminary Observations"
   ]
  },
  {
   "cell_type": "markdown",
   "metadata": {},
   "source": [
    "Visualization of data has been performed above and the following are the observations that we can observe from the visualizations performed above.\n",
    "\n",
    "1.There are a large number of people who have secondary education compared to the other people in this particular dataset. Around 50 % of the people have secondary education as we can see from the pie diagram above. \n",
    "\n",
    "2.We can see that a lot of different campaigns were used to do the marketing of the the schemes the bank had for the customers.However predominantly campaign 1 has been used extensively in this particualar dataset.\n",
    "\n",
    "3.We can see that we have a mix of three types of people in terms of marital status. Among the large number of people that we have a large portion of them are married followed by single people and then divorced people.\n",
    "\n",
    "4.We can see in the age month plot that most people who have been contacted by the bank are in the range of 25 to 45 and most of them have been contacted in the month of May\n",
    "\n",
    "5.The marriage age plot shows us how the age of the people coupled along with their marital status. The following Age deposit plot shows us the age of the people coupled with their decision to deposit or not.\n",
    "\n",
    "6.The Marriage deposit plot shows the marital status coupled along with the deposit and we can observe that married people are more likely to deposit in the bank followed by single and then the divorced people.\n",
    "\n",
    "7.The heat map shows the degree of correlation that exists between the different feature vvariables present in the dataset as it can be observed in the above heatmap"
   ]
  },
  {
   "cell_type": "markdown",
   "metadata": {},
   "source": [
    "# III. Methods\n",
    "\n",
    "In this assignment, you are building a deep network with more than 5 layers using TensorFlow. \n",
    "Looking at the chart below, get some idea about how you can construct your networks for what problem and why you pick your structure. \n",
    "\n",
    "- Pick at least 3 different networks for experiments.\n",
    "- Summarize the choice of your networks. \n",
    "- Explain your TensorFlow (or Keras) codes. \n",
    "- Explain how you apply your model to your data. \n",
    "\n",
    "Following images are only for you to get some idea. You do not necessarily stick with these. You can come up with your own structure or shape. \n",
    "\n",
    "![](https://camo.githubusercontent.com/31e20172e3b7bc5530a6e7c7e7339e8e556d0acc/687474703a2f2f7777772e6173696d6f76696e737469747574652e6f72672f77702d636f6e74656e742f75706c6f6164732f323031362f30392f6e657572616c6e6574776f726b732e706e67)"
   ]
  },
  {
   "cell_type": "markdown",
   "metadata": {},
   "source": [
    "# Explanation of the choice for 3 different neural network structures and reason for the selection."
   ]
  },
  {
   "cell_type": "markdown",
   "metadata": {},
   "source": [
    "In this assignment I have used the Sequential model in Keras to implement three different neural network structures. In the sequential model in Keras we can create different neural network strcutures by changing the number of neurons for each activation fucntion that has been used. Also we have different types of optimizers which I have used to understand and implement the sequential model in Keras."
   ]
  },
  {
   "cell_type": "markdown",
   "metadata": {},
   "source": [
    "In the first model I have kept it simple and used the tanh as  the activation fucntion for the first layer of the sequential model followed by five hidden layers having different number of neurons corresponding to the activation function which is tanh only in this case as I want to see how the sequential model works for less number of neurons having the same activation function throughout all the layers the first layer as well as the hidden layers. The reason for choosing this kind of structure is that doing this for the first time I want to see how the model behaves for a small number of hidden layers all having the same activation fucntion which is being used in model 1. After Implementing the model and running it we will get the results which we can analyse later in the results section."
   ]
  },
  {
   "cell_type": "markdown",
   "metadata": {},
   "source": [
    "In the second model I have tried to kick it up a notch by increasing the number of hidden layers as I want to see what happens when we increase the number of layers.I have used tanh as the activation fucntion to understand how the model changes the output when the first layers has the activation function as tanh with the hidden layers having different activation layers. I have increased the number of neurons for each hidden layer. I have taken eight hidden layers in which the first four layers I have used the tanh activation function and for the next four layers I have used the relu activation function. I have tried to make a new neural network structure by change the exitisting structure of the first model by increasing the number of hidden layers, the number of neurons in each of those layers, the activation function used in each of these layers and the optimizer is also different than what has been used earlier. After making these changes I want to see how the model processes the data and what is the change in the result after altering the existing model to create a new neural network structure."
   ]
  },
  {
   "cell_type": "markdown",
   "metadata": {},
   "source": [
    "In the third model I have tried to make an even further different neural network structure to observe what happens after further increasing the number of hidden layers and the number of neurons in each of those layers and the activation fucntions that will be applied in each of those layers. I have used the same activation function tanh as the activation fucntion for the first layer. For the hidden layers I have added a few more hidden layers to make the number to hidden layers twelve and varying the number of neurons in each of these hidden layers and the activation functions which I have used in this model are relu,elu and tanh. I have tried to make a third different neural network structure by changing the second model. The reason for this selection is to obsevre how the sequential model processes the data after altering the neural network structure further and analysing how the result changes after the creation of new neural network structure."
   ]
  },
  {
   "cell_type": "code",
   "execution_count": 25,
   "metadata": {},
   "outputs": [
    {
     "name": "stderr",
     "output_type": "stream",
     "text": [
      "Using TensorFlow backend.\n"
     ]
    }
   ],
   "source": [
    "import numpy as np\n",
    "import pandas as pd\n",
    "import tensorflow as tf\n",
    "import keras\n",
    "from keras import models, layers, losses, optimizers, metrics\n",
    "from sklearn.preprocessing import StandardScaler\n",
    "import matplotlib.pyplot as plt\n",
    "%matplotlib inline\n",
    "from keras.models import Sequential\n",
    "from keras.layers.core import Dense, Activation, Dropout\n",
    "from keras.optimizers import SGD, Adam, RMSprop\n",
    "from sklearn.preprocessing import *\n",
    "from sklearn.model_selection import *\n",
    "from sklearn.metrics import *\n",
    "import matplotlib.patches as mpatches"
   ]
  },
  {
   "cell_type": "code",
   "execution_count": 26,
   "metadata": {},
   "outputs": [
    {
     "data": {
      "text/html": [
       "<div>\n",
       "<style scoped>\n",
       "    .dataframe tbody tr th:only-of-type {\n",
       "        vertical-align: middle;\n",
       "    }\n",
       "\n",
       "    .dataframe tbody tr th {\n",
       "        vertical-align: top;\n",
       "    }\n",
       "\n",
       "    .dataframe thead th {\n",
       "        text-align: right;\n",
       "    }\n",
       "</style>\n",
       "<table border=\"1\" class=\"dataframe\">\n",
       "  <thead>\n",
       "    <tr style=\"text-align: right;\">\n",
       "      <th></th>\n",
       "      <th>age</th>\n",
       "      <th>marital</th>\n",
       "      <th>education</th>\n",
       "      <th>balance</th>\n",
       "      <th>housing</th>\n",
       "      <th>day</th>\n",
       "      <th>month</th>\n",
       "      <th>duration</th>\n",
       "      <th>campaign</th>\n",
       "      <th>deposit</th>\n",
       "    </tr>\n",
       "  </thead>\n",
       "  <tbody>\n",
       "    <tr>\n",
       "      <th>0</th>\n",
       "      <td>59</td>\n",
       "      <td>2</td>\n",
       "      <td>2</td>\n",
       "      <td>2343</td>\n",
       "      <td>1</td>\n",
       "      <td>5</td>\n",
       "      <td>5</td>\n",
       "      <td>1042</td>\n",
       "      <td>1</td>\n",
       "      <td>1</td>\n",
       "    </tr>\n",
       "    <tr>\n",
       "      <th>1</th>\n",
       "      <td>56</td>\n",
       "      <td>2</td>\n",
       "      <td>2</td>\n",
       "      <td>45</td>\n",
       "      <td>-1</td>\n",
       "      <td>5</td>\n",
       "      <td>5</td>\n",
       "      <td>1467</td>\n",
       "      <td>1</td>\n",
       "      <td>1</td>\n",
       "    </tr>\n",
       "    <tr>\n",
       "      <th>2</th>\n",
       "      <td>41</td>\n",
       "      <td>2</td>\n",
       "      <td>2</td>\n",
       "      <td>1270</td>\n",
       "      <td>1</td>\n",
       "      <td>5</td>\n",
       "      <td>5</td>\n",
       "      <td>1389</td>\n",
       "      <td>1</td>\n",
       "      <td>1</td>\n",
       "    </tr>\n",
       "    <tr>\n",
       "      <th>3</th>\n",
       "      <td>55</td>\n",
       "      <td>2</td>\n",
       "      <td>2</td>\n",
       "      <td>2476</td>\n",
       "      <td>1</td>\n",
       "      <td>5</td>\n",
       "      <td>5</td>\n",
       "      <td>579</td>\n",
       "      <td>1</td>\n",
       "      <td>1</td>\n",
       "    </tr>\n",
       "    <tr>\n",
       "      <th>4</th>\n",
       "      <td>54</td>\n",
       "      <td>2</td>\n",
       "      <td>3</td>\n",
       "      <td>184</td>\n",
       "      <td>-1</td>\n",
       "      <td>5</td>\n",
       "      <td>5</td>\n",
       "      <td>673</td>\n",
       "      <td>2</td>\n",
       "      <td>1</td>\n",
       "    </tr>\n",
       "  </tbody>\n",
       "</table>\n",
       "</div>"
      ],
      "text/plain": [
       "   age  marital  education  balance  housing  day  month  duration  campaign  \\\n",
       "0   59        2          2     2343        1    5      5      1042         1   \n",
       "1   56        2          2       45       -1    5      5      1467         1   \n",
       "2   41        2          2     1270        1    5      5      1389         1   \n",
       "3   55        2          2     2476        1    5      5       579         1   \n",
       "4   54        2          3      184       -1    5      5       673         2   \n",
       "\n",
       "   deposit  \n",
       "0        1  \n",
       "1        1  \n",
       "2        1  \n",
       "3        1  \n",
       "4        1  "
      ]
     },
     "execution_count": 26,
     "metadata": {},
     "output_type": "execute_result"
    }
   ],
   "source": [
    "df1.head()"
   ]
  },
  {
   "cell_type": "code",
   "execution_count": 27,
   "metadata": {},
   "outputs": [],
   "source": [
    "def normalize(X):\n",
    "    return (X/X.max())"
   ]
  },
  {
   "cell_type": "code",
   "execution_count": 28,
   "metadata": {},
   "outputs": [],
   "source": [
    "df1[\"month\"] = normalize(df1[\"month\"])\n",
    "df1[\"duration\"] = normalize(df1[\"duration\"])\n",
    "df1[\"campaign\"] = normalize(df1[\"campaign\"])\n",
    "df1[\"day\"] = normalize(df1[\"day\"])\n",
    "df1[\"age\"] = normalize(df1[\"age\"])\n",
    "df1[\"marital\"] = normalize(df1[\"marital\"])\n",
    "df1[\"education\"] = normalize(df1[\"education\"])\n",
    "df1[\"balance\"] = normalize(df1[\"balance\"])\n",
    "df1[\"housing\"] = normalize(df1[\"housing\"])"
   ]
  },
  {
   "cell_type": "code",
   "execution_count": 29,
   "metadata": {},
   "outputs": [
    {
     "data": {
      "text/html": [
       "<div>\n",
       "<style scoped>\n",
       "    .dataframe tbody tr th:only-of-type {\n",
       "        vertical-align: middle;\n",
       "    }\n",
       "\n",
       "    .dataframe tbody tr th {\n",
       "        vertical-align: top;\n",
       "    }\n",
       "\n",
       "    .dataframe thead th {\n",
       "        text-align: right;\n",
       "    }\n",
       "</style>\n",
       "<table border=\"1\" class=\"dataframe\">\n",
       "  <thead>\n",
       "    <tr style=\"text-align: right;\">\n",
       "      <th></th>\n",
       "      <th>age</th>\n",
       "      <th>marital</th>\n",
       "      <th>education</th>\n",
       "      <th>balance</th>\n",
       "      <th>housing</th>\n",
       "      <th>day</th>\n",
       "      <th>month</th>\n",
       "      <th>duration</th>\n",
       "      <th>campaign</th>\n",
       "      <th>deposit</th>\n",
       "    </tr>\n",
       "  </thead>\n",
       "  <tbody>\n",
       "    <tr>\n",
       "      <th>0</th>\n",
       "      <td>0.621053</td>\n",
       "      <td>0.666667</td>\n",
       "      <td>0.666667</td>\n",
       "      <td>0.028853</td>\n",
       "      <td>1.0</td>\n",
       "      <td>0.16129</td>\n",
       "      <td>0.416667</td>\n",
       "      <td>0.268488</td>\n",
       "      <td>0.015873</td>\n",
       "      <td>1</td>\n",
       "    </tr>\n",
       "    <tr>\n",
       "      <th>1</th>\n",
       "      <td>0.589474</td>\n",
       "      <td>0.666667</td>\n",
       "      <td>0.666667</td>\n",
       "      <td>0.000554</td>\n",
       "      <td>-1.0</td>\n",
       "      <td>0.16129</td>\n",
       "      <td>0.416667</td>\n",
       "      <td>0.377995</td>\n",
       "      <td>0.015873</td>\n",
       "      <td>1</td>\n",
       "    </tr>\n",
       "    <tr>\n",
       "      <th>2</th>\n",
       "      <td>0.431579</td>\n",
       "      <td>0.666667</td>\n",
       "      <td>0.666667</td>\n",
       "      <td>0.015640</td>\n",
       "      <td>1.0</td>\n",
       "      <td>0.16129</td>\n",
       "      <td>0.416667</td>\n",
       "      <td>0.357897</td>\n",
       "      <td>0.015873</td>\n",
       "      <td>1</td>\n",
       "    </tr>\n",
       "    <tr>\n",
       "      <th>3</th>\n",
       "      <td>0.578947</td>\n",
       "      <td>0.666667</td>\n",
       "      <td>0.666667</td>\n",
       "      <td>0.030491</td>\n",
       "      <td>1.0</td>\n",
       "      <td>0.16129</td>\n",
       "      <td>0.416667</td>\n",
       "      <td>0.149188</td>\n",
       "      <td>0.015873</td>\n",
       "      <td>1</td>\n",
       "    </tr>\n",
       "    <tr>\n",
       "      <th>4</th>\n",
       "      <td>0.568421</td>\n",
       "      <td>0.666667</td>\n",
       "      <td>1.000000</td>\n",
       "      <td>0.002266</td>\n",
       "      <td>-1.0</td>\n",
       "      <td>0.16129</td>\n",
       "      <td>0.416667</td>\n",
       "      <td>0.173409</td>\n",
       "      <td>0.031746</td>\n",
       "      <td>1</td>\n",
       "    </tr>\n",
       "  </tbody>\n",
       "</table>\n",
       "</div>"
      ],
      "text/plain": [
       "        age   marital  education   balance  housing      day     month  \\\n",
       "0  0.621053  0.666667   0.666667  0.028853      1.0  0.16129  0.416667   \n",
       "1  0.589474  0.666667   0.666667  0.000554     -1.0  0.16129  0.416667   \n",
       "2  0.431579  0.666667   0.666667  0.015640      1.0  0.16129  0.416667   \n",
       "3  0.578947  0.666667   0.666667  0.030491      1.0  0.16129  0.416667   \n",
       "4  0.568421  0.666667   1.000000  0.002266     -1.0  0.16129  0.416667   \n",
       "\n",
       "   duration  campaign  deposit  \n",
       "0  0.268488  0.015873        1  \n",
       "1  0.377995  0.015873        1  \n",
       "2  0.357897  0.015873        1  \n",
       "3  0.149188  0.015873        1  \n",
       "4  0.173409  0.031746        1  "
      ]
     },
     "execution_count": 29,
     "metadata": {},
     "output_type": "execute_result"
    }
   ],
   "source": [
    "df1.head()"
   ]
  },
  {
   "cell_type": "code",
   "execution_count": 30,
   "metadata": {},
   "outputs": [],
   "source": [
    "data = df1.sample(10000)"
   ]
  },
  {
   "cell_type": "code",
   "execution_count": 31,
   "metadata": {},
   "outputs": [
    {
     "name": "stderr",
     "output_type": "stream",
     "text": [
      "c:\\users\\user\\appdata\\local\\programs\\python\\python36\\lib\\site-packages\\ipykernel_launcher.py:2: FutureWarning: Method .as_matrix will be removed in a future version. Use .values instead.\n",
      "  \n"
     ]
    },
    {
     "data": {
      "text/plain": [
       "(10000, 9)"
      ]
     },
     "execution_count": 31,
     "metadata": {},
     "output_type": "execute_result"
    }
   ],
   "source": [
    "X=data.iloc[:,0:-1]\n",
    "X = X.as_matrix()\n",
    "X.shape"
   ]
  },
  {
   "cell_type": "code",
   "execution_count": 32,
   "metadata": {},
   "outputs": [
    {
     "name": "stderr",
     "output_type": "stream",
     "text": [
      "c:\\users\\user\\appdata\\local\\programs\\python\\python36\\lib\\site-packages\\ipykernel_launcher.py:2: FutureWarning: Method .as_matrix will be removed in a future version. Use .values instead.\n",
      "  \n"
     ]
    }
   ],
   "source": [
    "T=data.iloc[:,-1]\n",
    "T = T.as_matrix()\n",
    "T = T.reshape(T.shape[0],1)"
   ]
  },
  {
   "cell_type": "code",
   "execution_count": 33,
   "metadata": {},
   "outputs": [
    {
     "data": {
      "text/plain": [
       "(10000, 1)"
      ]
     },
     "execution_count": 33,
     "metadata": {},
     "output_type": "execute_result"
    }
   ],
   "source": [
    "T.shape"
   ]
  },
  {
   "cell_type": "code",
   "execution_count": 34,
   "metadata": {},
   "outputs": [],
   "source": [
    "normalize = StandardScaler()\n",
    "norm_x = normalize.fit_transform(X)\n",
    "X_train, X_test, y_train, y_test = train_test_split(norm_x, T, test_size=0.2, random_state=1)"
   ]
  },
  {
   "cell_type": "code",
   "execution_count": 35,
   "metadata": {},
   "outputs": [
    {
     "data": {
      "text/plain": [
       "(8000, 9)"
      ]
     },
     "execution_count": 35,
     "metadata": {},
     "output_type": "execute_result"
    }
   ],
   "source": [
    "X_train.shape"
   ]
  },
  {
   "cell_type": "code",
   "execution_count": 36,
   "metadata": {},
   "outputs": [],
   "source": [
    "def activation_function_addition(model,neu,act):\n",
    "    for x in range(len(neu)):\n",
    "        model.add(Dense(units=neu[x], activation=act[x]))\n",
    "    return model"
   ]
  },
  {
   "cell_type": "markdown",
   "metadata": {},
   "source": [
    "# MODEL 1"
   ]
  },
  {
   "cell_type": "markdown",
   "metadata": {},
   "source": [
    "# Explanation of codes for structure 1"
   ]
  },
  {
   "cell_type": "markdown",
   "metadata": {},
   "source": [
    "In this model I have invoked the sequential model of Keras and added an initial layer with tanh as the activation fucntion. The number of neurons for each activation fucntion are present in the list neurons_for_each_activation_fucntion and the different hidden layers has the activation fucntions stored in hd_activation_funcions. These layers are added to the model and then the Adam optimizer has been used to optimize the model and later the model is complied with the loss being binary_crossentropy and taccuracy is the metric being considered. Now the model is fit on the training data and validated on the testing data with the number of epochs being as displayed."
   ]
  },
  {
   "cell_type": "code",
   "execution_count": 37,
   "metadata": {},
   "outputs": [
    {
     "name": "stdout",
     "output_type": "stream",
     "text": [
      "WARNING:tensorflow:From c:\\users\\user\\appdata\\local\\programs\\python\\python36\\lib\\site-packages\\tensorflow\\python\\framework\\op_def_library.py:263: colocate_with (from tensorflow.python.framework.ops) is deprecated and will be removed in a future version.\n",
      "Instructions for updating:\n",
      "Colocations handled automatically by placer.\n",
      "WARNING:tensorflow:From c:\\users\\user\\appdata\\local\\programs\\python\\python36\\lib\\site-packages\\tensorflow\\python\\ops\\math_ops.py:3066: to_int32 (from tensorflow.python.ops.math_ops) is deprecated and will be removed in a future version.\n",
      "Instructions for updating:\n",
      "Use tf.cast instead.\n",
      "Train on 8000 samples, validate on 2000 samples\n",
      "Epoch 1/10\n",
      "8000/8000 [==============================] - 2s 221us/step - loss: 1.2944 - acc: 0.5835 - val_loss: 0.6035 - val_acc: 0.6595\n",
      "Epoch 2/10\n",
      "8000/8000 [==============================] - 0s 62us/step - loss: 0.7136 - acc: 0.5756 - val_loss: 0.8790 - val_acc: 0.4405\n",
      "Epoch 3/10\n",
      "8000/8000 [==============================] - 1s 97us/step - loss: 0.8522 - acc: 0.4484 - val_loss: 0.8291 - val_acc: 0.4445\n",
      "Epoch 4/10\n",
      "8000/8000 [==============================] - 1s 94us/step - loss: 0.8066 - acc: 0.4599 - val_loss: 0.7865 - val_acc: 0.4600\n",
      "Epoch 5/10\n",
      "8000/8000 [==============================] - 1s 93us/step - loss: 0.7657 - acc: 0.4709 - val_loss: 0.7477 - val_acc: 0.4675\n",
      "Epoch 6/10\n",
      "8000/8000 [==============================] - 1s 88us/step - loss: 0.7282 - acc: 0.4855 - val_loss: 0.7117 - val_acc: 0.4840\n",
      "Epoch 7/10\n",
      "8000/8000 [==============================] - 1s 68us/step - loss: 0.6946 - acc: 0.5238 - val_loss: 0.6803 - val_acc: 0.5610\n",
      "Epoch 8/10\n",
      "8000/8000 [==============================] - 0s 47us/step - loss: 0.6660 - acc: 0.5960 - val_loss: 0.6545 - val_acc: 0.6215\n",
      "Epoch 9/10\n",
      "8000/8000 [==============================] - 0s 54us/step - loss: 0.6430 - acc: 0.6441 - val_loss: 0.6339 - val_acc: 0.6505\n",
      "Epoch 10/10\n",
      "8000/8000 [==============================] - 0s 60us/step - loss: 0.6254 - acc: 0.6655 - val_loss: 0.6185 - val_acc: 0.6590\n"
     ]
    }
   ],
   "source": [
    "M1=keras.models.Sequential()\n",
    "model = M1.add(Dense(input_dim=9, units=9,activation='tanh'))\n",
    "neurons_for_each_activation_fucntion = [10,11,12,14,1]\n",
    "hd_activation_funcions = ['tanh','tanh','tanh','tanh','tanh']\n",
    "model1=activation_function_addition(M1,neurons_for_each_activation_fucntion,hd_activation_funcions)\n",
    "opt1 = optimizers.Adam(lr=0.001)\n",
    "M1.compile(opt1, loss='binary_crossentropy', metrics=['accuracy'])\n",
    "res1 = model1.fit(X_train, y_train, epochs=10, validation_data=[X_test, y_test])"
   ]
  },
  {
   "cell_type": "markdown",
   "metadata": {},
   "source": [
    "# Model 2"
   ]
  },
  {
   "cell_type": "markdown",
   "metadata": {},
   "source": [
    "# Explanation of codes for structure 2"
   ]
  },
  {
   "cell_type": "markdown",
   "metadata": {},
   "source": [
    "In this model I have invoked the sequential model of Keras and added an initial layer with tanh as the activation fucntion. The number of neurons for each activation fucntion are present in the list neurons_for_each_activation_fucntion and the different hidden layers has the activation fucntions stored in hd_activation_funcions. These layers are added to the model and then the RMSprop optimizer has been used to optimize the model and later the model is complied with the loss being binary_crossentropy and accuracy is the metric being considered. Now the model is fit on the training data and validated on the testing data with the number of epochs being as displayed. This model the is different because of the increase in the number of hidden layers and the number of neurons for each hidden layer and the activation fucntions for each hidden layers as it is seen in the code below."
   ]
  },
  {
   "cell_type": "code",
   "execution_count": 38,
   "metadata": {},
   "outputs": [
    {
     "name": "stdout",
     "output_type": "stream",
     "text": [
      "Train on 8000 samples, validate on 2000 samples\n",
      "Epoch 1/10\n",
      "8000/8000 [==============================] - 1s 139us/step - loss: 1.0082 - acc: 0.6041 - val_loss: 0.5638 - val_acc: 0.7170\n",
      "Epoch 2/10\n",
      "8000/8000 [==============================] - 0s 60us/step - loss: 0.5687 - acc: 0.7255 - val_loss: 0.5187 - val_acc: 0.7525\n",
      "Epoch 3/10\n",
      "8000/8000 [==============================] - 1s 77us/step - loss: 0.5344 - acc: 0.7466 - val_loss: 0.4970 - val_acc: 0.7700\n",
      "Epoch 4/10\n",
      "8000/8000 [==============================] - 1s 64us/step - loss: 0.5191 - acc: 0.7569 - val_loss: 0.4777 - val_acc: 0.7785\n",
      "Epoch 5/10\n",
      "8000/8000 [==============================] - 1s 85us/step - loss: 0.5059 - acc: 0.7591 - val_loss: 0.4771 - val_acc: 0.7840\n",
      "Epoch 6/10\n",
      "8000/8000 [==============================] - 1s 73us/step - loss: 0.5094 - acc: 0.7636 - val_loss: 0.4720 - val_acc: 0.7855\n",
      "Epoch 7/10\n",
      "8000/8000 [==============================] - 1s 65us/step - loss: 0.5081 - acc: 0.7671 - val_loss: 0.4819 - val_acc: 0.7855\n",
      "Epoch 8/10\n",
      "8000/8000 [==============================] - 1s 109us/step - loss: 0.5003 - acc: 0.7712 - val_loss: 0.4660 - val_acc: 0.7860\n",
      "Epoch 9/10\n",
      "8000/8000 [==============================] - 1s 93us/step - loss: 0.5004 - acc: 0.7700 - val_loss: 0.4707 - val_acc: 0.7860\n",
      "Epoch 10/10\n",
      "8000/8000 [==============================] - 0s 60us/step - loss: 0.4949 - acc: 0.7714 - val_loss: 0.4702 - val_acc: 0.7865\n"
     ]
    }
   ],
   "source": [
    "M2=keras.models.Sequential()\n",
    "model = M2.add(Dense(input_dim=9, units=9,activation='tanh'))\n",
    "neurons_for_each_activation_fucntion = [15,30,35,40,45,50,55,1]\n",
    "hd_activation_funcions = ['tanh','tanh','tanh','tanh','relu','relu','relu','relu']\n",
    "model = activation_function_addition(M2,neurons_for_each_activation_fucntion,hd_activation_funcions)\n",
    "opt2 = optimizers.RMSprop(lr=0.0001)\n",
    "M2.compile(opt2, loss='binary_crossentropy', metrics=['accuracy'])\n",
    "res2 = M2.fit(X_train, y_train, epochs=10, validation_data=[X_test, y_test])"
   ]
  },
  {
   "cell_type": "markdown",
   "metadata": {},
   "source": [
    "# Model 3"
   ]
  },
  {
   "cell_type": "markdown",
   "metadata": {},
   "source": [
    "# Explanation of codes for structure 3"
   ]
  },
  {
   "cell_type": "markdown",
   "metadata": {},
   "source": [
    "In this model I have invoked the sequential model of Keras and added an initial layer with tanh as the activation fucntion. The number of neurons for each activation fucntion are present in the list neurons_for_each_activation_fucntion and the different hidden layers has the activation fucntions stored in hd_activation_funcions. These layers are added to the model and then the Nadam optimizer has been used to optimize the model and later the model is complied with the loss being binary_crossentropy and taccuracy is the metric being considered. Now the model is fit on the training data and validated on the testing data with the number of epochs being as displayed. This model is different in the sense of even further increase in the number of hidden layers and the number of neurons for each hidden layer and the different activation fucntions for each of these hidden layers. Alsot he learning rate is changed to see how the model varies to different learning rates."
   ]
  },
  {
   "cell_type": "code",
   "execution_count": 39,
   "metadata": {},
   "outputs": [
    {
     "name": "stdout",
     "output_type": "stream",
     "text": [
      "Train on 8000 samples, validate on 2000 samples\n",
      "Epoch 1/10\n",
      "8000/8000 [==============================] - 2s 311us/step - loss: 6.1706 - acc: 0.5244 - val_loss: 5.6559 - val_acc: 0.5315\n",
      "Epoch 2/10\n",
      "8000/8000 [==============================] - 1s 100us/step - loss: 5.2516 - acc: 0.5244 - val_loss: 5.0680 - val_acc: 0.5315\n",
      "Epoch 3/10\n",
      "8000/8000 [==============================] - 1s 108us/step - loss: 4.8508 - acc: 0.5244 - val_loss: 4.9098 - val_acc: 0.5315\n",
      "Epoch 4/10\n",
      "8000/8000 [==============================] - 1s 121us/step - loss: 4.7183 - acc: 0.5244 - val_loss: 4.7428 - val_acc: 0.5315\n",
      "Epoch 5/10\n",
      "8000/8000 [==============================] - 1s 99us/step - loss: 4.5171 - acc: 0.5244 - val_loss: 4.5156 - val_acc: 0.5315\n",
      "Epoch 6/10\n",
      "8000/8000 [==============================] - 1s 120us/step - loss: 4.2919 - acc: 0.5244 - val_loss: 4.3154 - val_acc: 0.5315\n",
      "Epoch 7/10\n",
      "8000/8000 [==============================] - 1s 119us/step - loss: 4.0759 - acc: 0.5244 - val_loss: 4.0083 - val_acc: 0.5315\n",
      "Epoch 8/10\n",
      "8000/8000 [==============================] - 1s 100us/step - loss: 3.7118 - acc: 0.5244 - val_loss: 3.6799 - val_acc: 0.5315\n",
      "Epoch 9/10\n",
      "8000/8000 [==============================] - 1s 91us/step - loss: 3.4269 - acc: 0.5244 - val_loss: 3.3892 - val_acc: 0.5315\n",
      "Epoch 10/10\n",
      "8000/8000 [==============================] - 1s 93us/step - loss: 3.2577 - acc: 0.5244 - val_loss: 3.2281 - val_acc: 0.5315\n"
     ]
    }
   ],
   "source": [
    "M3=keras.models.Sequential()\n",
    "model = M3.add(Dense(input_dim=9, units=9,activation='tanh'))\n",
    "neurons_for_each_activation_fucntion = [5,10,15,30,45,55,60,65,68,70,72,1]\n",
    "hd_activation_funcions =['relu','elu','tanh','relu','elu','tanh','relu','elu','tanh','relu','elu','tanh'] \n",
    "model = activation_function_addition(M3,neurons_for_each_activation_fucntion,hd_activation_funcions)\n",
    "opt3 = optimizers.Nadam(lr= 0.000001)\n",
    "M3.compile(opt3, loss='binary_crossentropy', metrics=['accuracy'])\n",
    "res3 = M3.fit(X_train, y_train, epochs=10, validation_data=[X_test, y_test])"
   ]
  },
  {
   "cell_type": "markdown",
   "metadata": {},
   "source": [
    "# Explanation of experimental codes"
   ]
  },
  {
   "cell_type": "markdown",
   "metadata": {},
   "source": [
    "As we have seen before the sequential model has been implemented from Keras. The layers are stacked in a linear manner and the model is created by passing a list of layer instances to the constructor. The number of neurons which are used for training has been first displayed. An object of the sequential class has been made which as been used to create each of the three models as we can see above. The activation fucntion being used in the first layer is tanh. Further the different activation fucntions that has been used in the hidden layers has been added to the list as it can be seen in the above code. The hidden layers are the then aaded to the model using the activation_function_addition fuction. The model is then optimized using different optimizers.The model is then compiled and then fit using the training data and validated using the testing data."
   ]
  },
  {
   "cell_type": "markdown",
   "metadata": {},
   "source": [
    "# IV - Results"
   ]
  },
  {
   "cell_type": "markdown",
   "metadata": {},
   "source": [
    "# Presents the results of applications of your deep networks."
   ]
  },
  {
   "cell_type": "code",
   "execution_count": 40,
   "metadata": {},
   "outputs": [
    {
     "name": "stdout",
     "output_type": "stream",
     "text": [
      "Accuracy of model 1\n",
      "66.55\n"
     ]
    }
   ],
   "source": [
    "print(\"Accuracy of model 1\")\n",
    "print(res1.history['acc'][-1] * 100)"
   ]
  },
  {
   "cell_type": "code",
   "execution_count": 41,
   "metadata": {},
   "outputs": [
    {
     "name": "stdout",
     "output_type": "stream",
     "text": [
      "Accuracy of model 1\n",
      "77.1375\n"
     ]
    }
   ],
   "source": [
    "print(\"Accuracy of model 1\")\n",
    "print(res2.history['acc'][-1] * 100)"
   ]
  },
  {
   "cell_type": "code",
   "execution_count": 42,
   "metadata": {},
   "outputs": [
    {
     "name": "stdout",
     "output_type": "stream",
     "text": [
      "Accuracy of model 1\n",
      "52.4375\n"
     ]
    }
   ],
   "source": [
    "print(\"Accuracy of model 1\")\n",
    "print(res3.history['acc'][-1] * 100)"
   ]
  },
  {
   "cell_type": "markdown",
   "metadata": {},
   "source": [
    "# Visualize the results "
   ]
  },
  {
   "cell_type": "code",
   "execution_count": 43,
   "metadata": {},
   "outputs": [
    {
     "data": {
      "text/plain": [
       "Text(0, 0.5, 'Model Accuracy')"
      ]
     },
     "execution_count": 43,
     "metadata": {},
     "output_type": "execute_result"
    },
    {
     "data": {
      "image/png": "[encoded data removed]",
      "text/plain": [
       "<Figure size 432x288 with 1 Axes>"
      ]
     },
     "metadata": {},
     "output_type": "display_data"
    }
   ],
   "source": [
    "plt.plot(res1.history['acc'])\n",
    "plt.xlabel(\"No of Epochs\")\n",
    "plt.ylabel(\"Model Accuracy\")"
   ]
  },
  {
   "cell_type": "code",
   "execution_count": 44,
   "metadata": {},
   "outputs": [
    {
     "data": {
      "text/plain": [
       "Text(0, 0.5, 'Model Accuracy')"
      ]
     },
     "execution_count": 44,
     "metadata": {},
     "output_type": "execute_result"
    },
    {
     "data": {
      "image/png": "[encoded data removed]",
      "text/plain": [
       "<Figure size 432x288 with 1 Axes>"
      ]
     },
     "metadata": {},
     "output_type": "display_data"
    }
   ],
   "source": [
    "plt.plot(res2.history['acc'])\n",
    "plt.xlabel(\"No of Epochs\")\n",
    "plt.ylabel(\"Model Accuracy\")"
   ]
  },
  {
   "cell_type": "code",
   "execution_count": 45,
   "metadata": {},
   "outputs": [
    {
     "data": {
      "text/plain": [
       "Text(0, 0.5, 'Model Accuracy')"
      ]
     },
     "execution_count": 45,
     "metadata": {},
     "output_type": "execute_result"
    },
    {
     "data": {
      "image/png": "[encoded data removed]",
      "text/plain": [
       "<Figure size 432x288 with 1 Axes>"
      ]
     },
     "metadata": {},
     "output_type": "display_data"
    }
   ],
   "source": [
    "plt.plot(res3.history['acc'])\n",
    "plt.xlabel(\"No of Epochs\")\n",
    "plt.ylabel(\"Model Accuracy\")"
   ]
  },
  {
   "cell_type": "markdown",
   "metadata": {},
   "source": [
    "# Discuss about the choice of network structures and performance of it as you change the structures."
   ]
  },
  {
   "cell_type": "markdown",
   "metadata": {},
   "source": [
    "In this assignment I have tried to implement three different neural network structures by making an inital model ad then making additions to the same by adding the neurons and hidden layers and the different activation functions being used and the optimizers which have been used to make different model. \n",
    "\n",
    "1. We can see above the first model has an accuracy of 76 % which is very good as it has just five hidden layers and the same activation function throughout. \n",
    "2. For the second model we can see that after increasing the number of hidden layers and neurons and changing the activation functions we are getting an accuracy of 77 % which is better than the first model but not a big improvement as such.\n",
    "3. The third model has been even further modified by increasing the number of hidden layers and neurons and the activation functions however the accuracy is just 52 % which is very poor compared to the first two models. \n",
    "\n",
    "I implemented these three models after playing around with the different things such as the neurons, hiddenlayers, activation fucntions and optimizers. The accuracy of the model depends on all of these and these in the right proportion will give us maximum accuracy where as when not taken in the right manner will give us a result something like what we see in the third model. As the amount of time was less I was unable to find the right combination. However after further exploring and playing around we can have better results."
   ]
  },
  {
   "cell_type": "markdown",
   "metadata": {},
   "source": [
    "# What do you think about the results? "
   ]
  },
  {
   "cell_type": "markdown",
   "metadata": {},
   "source": [
    "My expectation was that the last model will have best accuracy but the opposite has been observed. As I develop the models further they will improve and give better accuracy. This is something which I was unable to achieve because of  not exploring the neural networks enough to understand how do the models behave and how can we have the best accuracy."
   ]
  },
  {
   "cell_type": "markdown",
   "metadata": {},
   "source": [
    "# Conclusions\n",
    "\n",
    "This assignment helped me get an idea about deepp learning and how to implement them and I enjoyed exploring the different network structures. If we could have had some more time we would be able to learn much more from this assignment."
   ]
  },
  {
   "cell_type": "markdown",
   "metadata": {},
   "source": [
    "# Extra Credit\n",
    "\n",
    "- [OPT 1] Test your program with GPUs and compare training speed. You can try [FloydHub](https://www.floydhub.com/) for free 2 hours of GPU resources or MAMBA cluster for this test. \n",
    "\n",
    "\n",
    "I have implemented the same code on Google Collab and I have got the following result:\n",
    "https://colab.research.google.com/drive/12dyBPAR9keCjqV8q1fBF87L7NtvoODA9#scrollTo=jwqOQc6ZPpqi\n",
    "\n",
    "\n",
    "Jupyter Runtime\n",
    "40.52285606716931\n",
    "\n",
    "Google Colab Runtime\n",
    "56.474742090999996"
   ]
  },
  {
   "cell_type": "markdown",
   "metadata": {},
   "source": [
    "## Grading\n",
    "\n",
    "DO NOT forget to submit your data! Your notebook is supposed to run fine after running your codes. \n",
    "\n",
    "\n",
    "points | | description\n",
    "--|--|:--\n",
    "5 | Overview| states the objective and the appraoch \n",
    "15 | Data | \n",
    " | 5| Includes description of your data\n",
    " | 5| Plots to visualize data \n",
    " | 5| Reading and analyzing the plots \n",
    "50 | Methods | \n",
    " | 30| Explanation of the choice for 3 different neural network structures and reason for the selection. (10 points for each) \n",
    " |   | Relate the choice of your data!\n",
    " | 15| Explanation of codes for each structure\n",
    " |  5| Explanation of experimental codes\n",
    "25 | Results | Your Data\n",
    "| 15| plots for results \n",
    "| 10| Discussions about the choice of network structures \n",
    "5 | Conclusions \n"
   ]
  },
  {
   "cell_type": "code",
   "execution_count": 46,
   "metadata": {},
   "outputs": [],
   "source": [
    "elapsed = timeit.default_timer() - start_time"
   ]
  },
  {
   "cell_type": "code",
   "execution_count": 47,
   "metadata": {},
   "outputs": [
    {
     "data": {
      "text/plain": [
       "40.52285606716931"
      ]
     },
     "execution_count": 47,
     "metadata": {},
     "output_type": "execute_result"
    }
   ],
   "source": [
    "elapsed"
   ]
  }
 ],
 "metadata": {
  "kernelspec": {
   "display_name": "Python 3",
   "language": "python",
   "name": "python3"
  },
  "language_info": {
   "codemirror_mode": {
    "name": "ipython",
    "version": 3
   },
   "file_extension": ".py",
   "mimetype": "text/x-python",
   "name": "python",
   "nbconvert_exporter": "python",
   "pygments_lexer": "ipython3",
   "version": "3.6.5"
  }
 },
 "nbformat": 4,
 "nbformat_minor": 2
}
